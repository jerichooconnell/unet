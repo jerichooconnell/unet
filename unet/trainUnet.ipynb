{
 "cells": [
  {
   "cell_type": "code",
   "execution_count": 1,
   "metadata": {},
   "outputs": [
    {
     "name": "stdout",
     "output_type": "stream",
     "text": [
      "Populating the interactive namespace from numpy and matplotlib\n"
     ]
    }
   ],
   "source": [
    "%pylab inline"
   ]
  },
  {
   "cell_type": "code",
   "execution_count": 2,
   "metadata": {},
   "outputs": [
    {
     "name": "stderr",
     "output_type": "stream",
     "text": [
      "/home/jericho/anaconda3/lib/python3.6/site-packages/h5py/__init__.py:36: FutureWarning: Conversion of the second argument of issubdtype from `float` to `np.floating` is deprecated. In future, it will be treated as `np.float64 == np.dtype(float).type`.\n",
      "  from ._conv import register_converters as _register_converters\n",
      "Using TensorFlow backend.\n"
     ]
    }
   ],
   "source": [
    "from model import *\n",
    "from data import *"
   ]
  },
  {
   "cell_type": "markdown",
   "metadata": {},
   "source": [
    "## Train your Unet with cartilage data\n",
    "membrane data is in folder chicken/, it is a binary classification task.\n",
    "\n",
    "The input shape of image and mask are the same :(batch_size,rows,cols,channel = 1)"
   ]
  },
  {
   "cell_type": "markdown",
   "metadata": {},
   "source": [
    "### Train with data generator"
   ]
  },
  {
   "cell_type": "code",
   "execution_count": 3,
   "metadata": {
    "scrolled": false
   },
   "outputs": [
    {
     "name": "stderr",
     "output_type": "stream",
     "text": [
      "/home/jerichoo/unet/model.py:34: UserWarning: The `merge` function is deprecated and will be removed after 08/2017. Use instead layers from `keras.layers.merge`, e.g. `add`, `concatenate`, etc.\n",
      "  merge6 = merge([drop4,up6], mode = 'concat', concat_axis = 3)\n",
      "/home/jerichoo/tensorflow2/lib/python3.5/site-packages/keras/legacy/layers.py:465: UserWarning: The `Merge` layer is deprecated and will be removed after 08/2017. Use instead layers from `keras.layers.merge`, e.g. `add`, `concatenate`, etc.\n",
      "  name=name)\n",
      "/home/jerichoo/unet/model.py:39: UserWarning: The `merge` function is deprecated and will be removed after 08/2017. Use instead layers from `keras.layers.merge`, e.g. `add`, `concatenate`, etc.\n",
      "  merge7 = merge([conv3,up7], mode = 'concat', concat_axis = 3)\n",
      "/home/jerichoo/unet/model.py:44: UserWarning: The `merge` function is deprecated and will be removed after 08/2017. Use instead layers from `keras.layers.merge`, e.g. `add`, `concatenate`, etc.\n",
      "  merge8 = merge([conv2,up8], mode = 'concat', concat_axis = 3)\n",
      "/home/jerichoo/unet/model.py:49: UserWarning: The `merge` function is deprecated and will be removed after 08/2017. Use instead layers from `keras.layers.merge`, e.g. `add`, `concatenate`, etc.\n",
      "  merge9 = merge([conv1,up9], mode = 'concat', concat_axis = 3)\n",
      "/home/jerichoo/unet/model.py:55: UserWarning: Update your `Model` call to the Keras 2 API: `Model(inputs=Tensor(\"in..., outputs=Tensor(\"co...)`\n",
      "  model = Model(input = inputs, output = conv10)\n"
     ]
    },
    {
     "name": "stdout",
     "output_type": "stream",
     "text": [
      "Epoch 1/5\n",
      "Found 30 images belonging to 1 classes.\n",
      "Found 30 images belonging to 1 classes.\n",
      "2000/2000 [==============================] - 312s 156ms/step - loss: 0.0788 - acc: 0.9687\n",
      "\n",
      "Epoch 00001: loss improved from inf to 0.07876, saving model to unet_membrane.hdf5\n",
      "Epoch 2/5\n",
      "2000/2000 [==============================] - 293s 147ms/step - loss: 0.0211 - acc: 0.9919\n",
      "\n",
      "Epoch 00002: loss improved from 0.07876 to 0.02108, saving model to unet_membrane.hdf5\n",
      "Epoch 3/5\n",
      "2000/2000 [==============================] - 273s 136ms/step - loss: 0.0170 - acc: 0.9935\n",
      "\n",
      "Epoch 00003: loss improved from 0.02108 to 0.01700, saving model to unet_membrane.hdf5\n",
      "Epoch 4/5\n",
      "2000/2000 [==============================] - 306s 153ms/step - loss: 0.0121 - acc: 0.9952\n",
      "\n",
      "Epoch 00004: loss improved from 0.01700 to 0.01206, saving model to unet_membrane.hdf5\n",
      "Epoch 5/5\n",
      "2000/2000 [==============================] - 276s 138ms/step - loss: 0.0123 - acc: 0.9953\n",
      "\n",
      "Epoch 00005: loss did not improve from 0.01206\n"
     ]
    },
    {
     "data": {
      "text/plain": [
       "<keras.callbacks.History at 0x2aef7c67beb8>"
      ]
     },
     "execution_count": 3,
     "metadata": {},
     "output_type": "execute_result"
    }
   ],
   "source": [
    "data_gen_args = dict(rotation_range=0.2,\n",
    "                    width_shift_range=0.05,\n",
    "                    height_shift_range=0.05,\n",
    "                    shear_range=0.05,\n",
    "                    zoom_range=0.05,\n",
    "                    horizontal_flip=True,\n",
    "                    fill_mode='nearest')\n",
    "myGene = trainGenerator(2,'data/chicken/train','image','label',data_gen_args,save_to_dir = None)\n",
    "model = unet()\n",
    "model_checkpoint = ModelCheckpoint('unet_membrane2.hdf5', monitor='loss',verbose=1, save_best_only=True)\n",
    "model.fit_generator(myGene,steps_per_epoch=2000,epochs=5,callbacks=[model_checkpoint])"
   ]
  },
  {
   "cell_type": "markdown",
   "metadata": {},
   "source": [
    "### Test your model and save predicted results"
   ]
  },
  {
   "cell_type": "code",
   "execution_count": 13,
   "metadata": {},
   "outputs": [
    {
     "name": "stderr",
     "output_type": "stream",
     "text": [
      "/home/jericho/unet/model.py:34: UserWarning: The `merge` function is deprecated and will be removed after 08/2017. Use instead layers from `keras.layers.merge`, e.g. `add`, `concatenate`, etc.\n",
      "  merge6 = merge([drop4,up6], mode = 'concat', concat_axis = 3)\n",
      "/home/jericho/anaconda3/lib/python3.6/site-packages/keras/legacy/layers.py:465: UserWarning: The `Merge` layer is deprecated and will be removed after 08/2017. Use instead layers from `keras.layers.merge`, e.g. `add`, `concatenate`, etc.\n",
      "  name=name)\n",
      "/home/jericho/unet/model.py:39: UserWarning: The `merge` function is deprecated and will be removed after 08/2017. Use instead layers from `keras.layers.merge`, e.g. `add`, `concatenate`, etc.\n",
      "  merge7 = merge([conv3,up7], mode = 'concat', concat_axis = 3)\n",
      "/home/jericho/unet/model.py:44: UserWarning: The `merge` function is deprecated and will be removed after 08/2017. Use instead layers from `keras.layers.merge`, e.g. `add`, `concatenate`, etc.\n",
      "  merge8 = merge([conv2,up8], mode = 'concat', concat_axis = 3)\n",
      "/home/jericho/unet/model.py:49: UserWarning: The `merge` function is deprecated and will be removed after 08/2017. Use instead layers from `keras.layers.merge`, e.g. `add`, `concatenate`, etc.\n",
      "  merge9 = merge([conv1,up9], mode = 'concat', concat_axis = 3)\n",
      "/home/jericho/unet/model.py:55: UserWarning: Update your `Model` call to the Keras 2 API: `Model(inputs=Tensor(\"in..., outputs=Tensor(\"co...)`\n",
      "  model = Model(input = inputs, output = conv10)\n"
     ]
    }
   ],
   "source": [
    "testGene = testGenerator(\"data/chicken/test\")\n",
    "model = unet()\n",
    "model.load_weights(\"unet_membrane.hdf5\")"
   ]
  },
  {
   "cell_type": "code",
   "execution_count": 14,
   "metadata": {},
   "outputs": [
    {
     "name": "stderr",
     "output_type": "stream",
     "text": [
      "/home/jericho/anaconda3/lib/python3.6/site-packages/skimage/transform/_warps.py:84: UserWarning: The default mode, 'constant', will be changed to 'reflect' in skimage 0.15.\n",
      "  warn(\"The default mode, 'constant', will be changed to 'reflect' in \"\n"
     ]
    },
    {
     "name": "stdout",
     "output_type": "stream",
     "text": [
      "30/30 [==============================] - 29s 972ms/step\n"
     ]
    },
    {
     "name": "stderr",
     "output_type": "stream",
     "text": [
      "/home/jericho/anaconda3/lib/python3.6/site-packages/skimage/util/dtype.py:122: UserWarning: Possible precision loss when converting from float32 to uint16\n",
      "  .format(dtypeobj_in, dtypeobj_out))\n"
     ]
    }
   ],
   "source": [
    "results = model.predict_generator(testGene,30,verbose=1)\n",
    "saveResult(\"data/chicken/test\",results)"
   ]
  },
  {
   "cell_type": "markdown",
   "metadata": {},
   "source": [
    "### Evaluate the model using different test directories\n",
    "Using the keras evaluate function"
   ]
  },
  {
   "cell_type": "code",
   "execution_count": 4,
   "metadata": {},
   "outputs": [
    {
     "name": "stderr",
     "output_type": "stream",
     "text": [
      "/home/jericho/unet/unet/model.py:34: UserWarning: The `merge` function is deprecated and will be removed after 08/2017. Use instead layers from `keras.layers.merge`, e.g. `add`, `concatenate`, etc.\n",
      "  merge6 = merge([drop4,up6], mode = 'concat', concat_axis = 3)\n",
      "/home/jericho/anaconda3/lib/python3.6/site-packages/keras/legacy/layers.py:465: UserWarning: The `Merge` layer is deprecated and will be removed after 08/2017. Use instead layers from `keras.layers.merge`, e.g. `add`, `concatenate`, etc.\n",
      "  name=name)\n",
      "/home/jericho/unet/unet/model.py:39: UserWarning: The `merge` function is deprecated and will be removed after 08/2017. Use instead layers from `keras.layers.merge`, e.g. `add`, `concatenate`, etc.\n",
      "  merge7 = merge([conv3,up7], mode = 'concat', concat_axis = 3)\n",
      "/home/jericho/unet/unet/model.py:44: UserWarning: The `merge` function is deprecated and will be removed after 08/2017. Use instead layers from `keras.layers.merge`, e.g. `add`, `concatenate`, etc.\n",
      "  merge8 = merge([conv2,up8], mode = 'concat', concat_axis = 3)\n",
      "/home/jericho/unet/unet/model.py:49: UserWarning: The `merge` function is deprecated and will be removed after 08/2017. Use instead layers from `keras.layers.merge`, e.g. `add`, `concatenate`, etc.\n",
      "  merge9 = merge([conv1,up9], mode = 'concat', concat_axis = 3)\n",
      "/home/jericho/unet/unet/model.py:55: UserWarning: Update your `Model` call to the Keras 2 API: `Model(inputs=Tensor(\"in..., outputs=Tensor(\"co...)`\n",
      "  model = Model(input = inputs, output = conv10)\n"
     ]
    },
    {
     "name": "stdout",
     "output_type": "stream",
     "text": [
      "Found 2 images belonging to 1 classes.\n",
      "Found 2 images belonging to 1 classes.\n",
      "1/1 [==============================] - 2s 2s/step\n",
      "Found 2 images belonging to 1 classes.\n",
      "Found 2 images belonging to 1 classes.\n",
      "1/1 [==============================] - 2s 2s/step\n",
      "Found 2 images belonging to 1 classes.\n",
      "Found 2 images belonging to 1 classes.\n",
      "1/1 [==============================] - 2s 2s/step\n",
      "Found 2 images belonging to 1 classes.\n",
      "Found 2 images belonging to 1 classes.\n",
      "1/1 [==============================] - 2s 2s/step\n",
      "Found 2 images belonging to 1 classes.\n",
      "Found 2 images belonging to 1 classes.\n",
      "1/1 [==============================] - 2s 2s/step\n",
      "Found 2 images belonging to 1 classes.\n",
      "Found 2 images belonging to 1 classes.\n",
      "1/1 [==============================] - 2s 2s/step\n",
      "Found 2 images belonging to 1 classes.\n",
      "Found 2 images belonging to 1 classes.\n",
      "1/1 [==============================] - 2s 2s/step\n",
      "Found 2 images belonging to 1 classes.\n",
      "Found 2 images belonging to 1 classes.\n",
      "1/1 [==============================] - 2s 2s/step\n",
      "Found 2 images belonging to 1 classes.\n",
      "Found 2 images belonging to 1 classes.\n",
      "1/1 [==============================] - 2s 2s/step\n",
      "Found 2 images belonging to 1 classes.\n",
      "Found 2 images belonging to 1 classes.\n",
      "1/1 [==============================] - 2s 2s/step\n",
      "Found 2 images belonging to 1 classes.\n",
      "Found 2 images belonging to 1 classes.\n",
      "1/1 [==============================] - 2s 2s/step\n",
      "Found 2 images belonging to 1 classes.\n",
      "Found 2 images belonging to 1 classes.\n",
      "1/1 [==============================] - 2s 2s/step\n",
      "Found 2 images belonging to 1 classes.\n",
      "Found 2 images belonging to 1 classes.\n",
      "1/1 [==============================] - 2s 2s/step\n",
      "Found 2 images belonging to 1 classes.\n",
      "Found 2 images belonging to 1 classes.\n",
      "1/1 [==============================] - 2s 2s/step\n",
      "Found 2 images belonging to 1 classes.\n",
      "Found 2 images belonging to 1 classes.\n",
      "1/1 [==============================] - 2s 2s/step\n",
      "Found 2 images belonging to 1 classes.\n",
      "Found 2 images belonging to 1 classes.\n",
      "1/1 [==============================] - 2s 2s/step\n",
      "Found 2 images belonging to 1 classes.\n",
      "Found 2 images belonging to 1 classes.\n",
      "1/1 [==============================] - 2s 2s/step\n",
      "Found 2 images belonging to 1 classes.\n",
      "Found 2 images belonging to 1 classes.\n",
      "1/1 [==============================] - 2s 2s/step\n",
      "Found 2 images belonging to 1 classes.\n",
      "Found 2 images belonging to 1 classes.\n",
      "1/1 [==============================] - 2s 2s/step\n",
      "Found 2 images belonging to 1 classes.\n",
      "Found 2 images belonging to 1 classes.\n",
      "1/1 [==============================] - 2s 2s/step\n",
      "Found 2 images belonging to 1 classes.\n",
      "Found 2 images belonging to 1 classes.\n",
      "1/1 [==============================] - 2s 2s/step\n",
      "Found 2 images belonging to 1 classes.\n",
      "Found 2 images belonging to 1 classes.\n",
      "1/1 [==============================] - 2s 2s/step\n",
      "Found 2 images belonging to 1 classes.\n",
      "Found 2 images belonging to 1 classes.\n",
      "1/1 [==============================] - 2s 2s/step\n",
      "Found 2 images belonging to 1 classes.\n",
      "Found 2 images belonging to 1 classes.\n",
      "1/1 [==============================] - 2s 2s/step\n"
     ]
    }
   ],
   "source": [
    "data_gen_args = dict(rotation_range=0.2,\n",
    "                    width_shift_range=0.05,\n",
    "                    height_shift_range=0.05,\n",
    "                    shear_range=0.05,\n",
    "                    zoom_range=0.05,\n",
    "                    horizontal_flip=True,\n",
    "                    fill_mode='nearest')\n",
    "\n",
    "thickness_mm = [39, 34, 29, 24, 19, 14, 9, 4]\n",
    "accuracies = np.zeros([3,8])\n",
    "losses = np.zeros([3,8])\n",
    "model = unet()\n",
    "model.load_weights(\"unet_membrane.hdf5\")\n",
    "        \n",
    "for ii, radius in enumerate([5, 10, 15]):\n",
    "    for jj, thickness in enumerate([39, 34, 29, 24, 19, 14, 9, 4]):\n",
    "\n",
    "        myGene = trainGenerator(\n",
    "            2,\n",
    "            'data/chicken/' + f'test_{radius}' + '/' + f'{thickness}',\n",
    "            'image',\n",
    "            'label',\n",
    "            data_gen_args,\n",
    "            save_to_dir=None)\n",
    "        results = model.evaluate_generator(myGene, 1, verbose=1, workers=3)\n",
    "        accuracies[ii,jj] = results[1]\n",
    "        losses[ii,jj] = results[0]"
   ]
  },
  {
   "cell_type": "markdown",
   "metadata": {},
   "source": [
    "### Put predictions in the evaluated directories to view the results"
   ]
  },
  {
   "cell_type": "code",
   "execution_count": 7,
   "metadata": {},
   "outputs": [
    {
     "name": "stderr",
     "output_type": "stream",
     "text": [
      "/home/jericho/unet/model.py:34: UserWarning: The `merge` function is deprecated and will be removed after 08/2017. Use instead layers from `keras.layers.merge`, e.g. `add`, `concatenate`, etc.\n",
      "  merge6 = merge([drop4,up6], mode = 'concat', concat_axis = 3)\n",
      "/home/jericho/anaconda3/lib/python3.6/site-packages/keras/legacy/layers.py:465: UserWarning: The `Merge` layer is deprecated and will be removed after 08/2017. Use instead layers from `keras.layers.merge`, e.g. `add`, `concatenate`, etc.\n",
      "  name=name)\n",
      "/home/jericho/unet/model.py:39: UserWarning: The `merge` function is deprecated and will be removed after 08/2017. Use instead layers from `keras.layers.merge`, e.g. `add`, `concatenate`, etc.\n",
      "  merge7 = merge([conv3,up7], mode = 'concat', concat_axis = 3)\n",
      "/home/jericho/unet/model.py:44: UserWarning: The `merge` function is deprecated and will be removed after 08/2017. Use instead layers from `keras.layers.merge`, e.g. `add`, `concatenate`, etc.\n",
      "  merge8 = merge([conv2,up8], mode = 'concat', concat_axis = 3)\n",
      "/home/jericho/unet/model.py:49: UserWarning: The `merge` function is deprecated and will be removed after 08/2017. Use instead layers from `keras.layers.merge`, e.g. `add`, `concatenate`, etc.\n",
      "  merge9 = merge([conv1,up9], mode = 'concat', concat_axis = 3)\n",
      "/home/jericho/unet/model.py:55: UserWarning: Update your `Model` call to the Keras 2 API: `Model(inputs=Tensor(\"in..., outputs=Tensor(\"co...)`\n",
      "  model = Model(input = inputs, output = conv10)\n"
     ]
    },
    {
     "name": "stdout",
     "output_type": "stream",
     "text": [
      "Found 2 images belonging to 1 classes.\n",
      "Found 2 images belonging to 1 classes.\n",
      "1/1 [==============================] - 2s 2s/step\n",
      "Found 2 images belonging to 1 classes.\n",
      "Found 2 images belonging to 1 classes.\n"
     ]
    },
    {
     "name": "stderr",
     "output_type": "stream",
     "text": [
      "/home/jericho/anaconda3/lib/python3.6/site-packages/skimage/util/dtype.py:122: UserWarning: Possible precision loss when converting from float32 to uint16\n",
      "  .format(dtypeobj_in, dtypeobj_out))\n"
     ]
    },
    {
     "name": "stdout",
     "output_type": "stream",
     "text": [
      "1/1 [==============================] - 2s 2s/step\n",
      "Found 2 images belonging to 1 classes.\n",
      "Found 2 images belonging to 1 classes.\n",
      "1/1 [==============================] - 2s 2s/step\n",
      "Found 2 images belonging to 1 classes.\n",
      "Found 2 images belonging to 1 classes.\n",
      "1/1 [==============================] - 2s 2s/step\n",
      "Found 2 images belonging to 1 classes.\n",
      "Found 2 images belonging to 1 classes.\n",
      "1/1 [==============================] - 2s 2s/step\n",
      "Found 2 images belonging to 1 classes.\n",
      "Found 2 images belonging to 1 classes.\n",
      "1/1 [==============================] - 2s 2s/step\n",
      "Found 2 images belonging to 1 classes.\n",
      "Found 2 images belonging to 1 classes.\n",
      "1/1 [==============================] - 2s 2s/step\n",
      "Found 2 images belonging to 1 classes.\n",
      "Found 2 images belonging to 1 classes.\n",
      "1/1 [==============================] - 2s 2s/step\n",
      "Found 2 images belonging to 1 classes.\n",
      "Found 2 images belonging to 1 classes.\n",
      "1/1 [==============================] - 2s 2s/step\n",
      "Found 2 images belonging to 1 classes.\n",
      "Found 2 images belonging to 1 classes.\n",
      "1/1 [==============================] - 2s 2s/step\n",
      "Found 2 images belonging to 1 classes.\n",
      "Found 2 images belonging to 1 classes.\n",
      "1/1 [==============================] - 2s 2s/step\n",
      "Found 2 images belonging to 1 classes.\n",
      "Found 2 images belonging to 1 classes.\n",
      "1/1 [==============================] - 2s 2s/step\n",
      "Found 2 images belonging to 1 classes.\n",
      "Found 2 images belonging to 1 classes.\n",
      "1/1 [==============================] - 2s 2s/step\n",
      "Found 2 images belonging to 1 classes.\n",
      "Found 2 images belonging to 1 classes.\n",
      "1/1 [==============================] - 2s 2s/step\n",
      "Found 2 images belonging to 1 classes.\n",
      "Found 2 images belonging to 1 classes.\n",
      "1/1 [==============================] - 2s 2s/step\n",
      "Found 2 images belonging to 1 classes.\n",
      "Found 2 images belonging to 1 classes.\n",
      "1/1 [==============================] - 2s 2s/step\n",
      "Found 2 images belonging to 1 classes.\n",
      "Found 2 images belonging to 1 classes.\n",
      "1/1 [==============================] - 2s 2s/step\n",
      "Found 2 images belonging to 1 classes.\n",
      "Found 2 images belonging to 1 classes.\n",
      "1/1 [==============================] - 2s 2s/step\n",
      "Found 2 images belonging to 1 classes.\n",
      "Found 2 images belonging to 1 classes.\n",
      "1/1 [==============================] - 2s 2s/step\n",
      "Found 2 images belonging to 1 classes.\n",
      "Found 2 images belonging to 1 classes.\n",
      "1/1 [==============================] - 2s 2s/step\n",
      "Found 2 images belonging to 1 classes.\n",
      "Found 2 images belonging to 1 classes.\n",
      "1/1 [==============================] - 2s 2s/step\n",
      "Found 2 images belonging to 1 classes.\n",
      "Found 2 images belonging to 1 classes.\n",
      "1/1 [==============================] - 2s 2s/step\n",
      "Found 2 images belonging to 1 classes.\n",
      "Found 2 images belonging to 1 classes.\n",
      "1/1 [==============================] - 3s 3s/step\n",
      "Found 2 images belonging to 1 classes.\n",
      "Found 2 images belonging to 1 classes.\n",
      "1/1 [==============================] - 2s 2s/step\n"
     ]
    }
   ],
   "source": [
    "data_gen_args = dict(\n",
    "    rotation_range=0,\n",
    "    width_shift_range=0,\n",
    "    height_shift_range=0,\n",
    "    shear_range=0,\n",
    "    zoom_range=0,\n",
    "    horizontal_flip=False)\n",
    "\n",
    "thickness_mm = [39, 34, 29, 24, 19, 14, 9, 4]\n",
    "accuracies = np.zeros([3,8])\n",
    "losses = np.zeros([3,8])\n",
    "model = unet()\n",
    "model.load_weights(\"unet_membrane.hdf5\")\n",
    "\n",
    "# 'data/chicken/' + f'test_{radius}' + '/' + f'{thickness}',\n",
    "        \n",
    "for ii, radius in enumerate([5, 10, 15]):\n",
    "    for jj, thickness in enumerate([39, 34, 29, 24, 19, 14, 9, 4]):\n",
    "\n",
    "        myGene = trainGenerator(\n",
    "            2,\n",
    "            'data/chicken/' + f'test_{radius}' + '/' + f'{thickness}',\n",
    "            'image',\n",
    "            'label',\n",
    "            data_gen_args,\n",
    "            save_to_dir=None)\n",
    "        results = model.predict_generator(myGene, 1, verbose=1, workers=3)\n",
    "        saveResult('data/chicken/' + f'test_{radius}' + '/' + f'{thickness}',results)"
   ]
  },
  {
   "cell_type": "markdown",
   "metadata": {},
   "source": [
    "### Plotting the results"
   ]
  },
  {
   "cell_type": "code",
   "execution_count": 6,
   "metadata": {},
   "outputs": [
    {
     "data": {
      "image/png": "[encoded data removed]",
      "text/plain": [
       "<Figure size 288x216 with 1 Axes>"
      ]
     },
     "metadata": {},
     "output_type": "display_data"
    }
   ],
   "source": [
    "xvec = np.linspace(03.9,.4,8)\n",
    "\n",
    "plt.rc('font', family='serif')\n",
    "plt.rc('xtick', labelsize='x-small')\n",
    "plt.rc('ytick', labelsize='x-small')\n",
    "fig = figure(figsize=(4, 3))\n",
    "ax = fig.add_subplot(1, 1, 1)\n",
    "\n",
    "ax.plot(xvec,accuracies[0,:].T,'*')\n",
    "ax.plot(xvec,accuracies[1,:].T,'*')\n",
    "ax.plot(xvec,accuracies[2,:].T,'*')\n",
    "ax.plot([0,4],[0.9953,0.9953],'g--')\n",
    "#plt.ylim([0, 1])\n",
    "ax.set_xlim([0, 4])\n",
    "ax.set_ylabel('Catagorical accuracy')\n",
    "ax.set_xlabel('Cartilage depth [cm]')\n",
    "#ax.title('UNet accuracy')\n",
    "ax.legend(['10.0 mm','6.6 mm','3.4 mm'],title='Diameter of circles')\n",
    "\n",
    "plt.gcf().subplots_adjust(bottom=0.15,left=0.15)"
   ]
  },
  {
   "cell_type": "code",
   "execution_count": null,
   "metadata": {},
   "outputs": [],
   "source": []
  }
 ],
 "metadata": {
  "kernelspec": {
   "display_name": "Python 3",
   "language": "python",
   "name": "python3"
  },
  "language_info": {
   "codemirror_mode": {
    "name": "ipython",
    "version": 3
   },
   "file_extension": ".py",
   "mimetype": "text/x-python",
   "name": "python",
   "nbconvert_exporter": "python",
   "pygments_lexer": "ipython3",
   "version": "3.6.5"
  },
  "varInspector": {
   "cols": {
    "lenName": 16,
    "lenType": 16,
    "lenVar": 40
   },
   "kernels_config": {
    "python": {
     "delete_cmd_postfix": "",
     "delete_cmd_prefix": "del ",
     "library": "var_list.py",
     "varRefreshCmd": "print(var_dic_list())"
    },
    "r": {
     "delete_cmd_postfix": ") ",
     "delete_cmd_prefix": "rm(",
     "library": "var_list.r",
     "varRefreshCmd": "cat(var_dic_list()) "
    }
   },
   "types_to_exclude": [
    "module",
    "function",
    "builtin_function_or_method",
    "instance",
    "_Feature"
   ],
   "window_display": false
  }
 },
 "nbformat": 4,
 "nbformat_minor": 2
}
