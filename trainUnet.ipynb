{
 "cells": [
  {
   "cell_type": "code",
   "execution_count": 2,
   "metadata": {},
   "outputs": [],
   "source": [
    "from model import *\n",
    "from data import *"
   ]
  },
  {
   "cell_type": "markdown",
   "metadata": {},
   "source": [
    "## Train your Unet with membrane data\n",
    "membrane data is in folder membrane/, it is a binary classification task.\n",
    "\n",
    "The input shape of image and mask are the same :(batch_size,rows,cols,channel = 1)"
   ]
  },
  {
   "cell_type": "markdown",
   "metadata": {},
   "source": [
    "### Train with data generator"
   ]
  },
  {
   "cell_type": "code",
   "execution_count": 3,
   "metadata": {
    "scrolled": false
   },
   "outputs": [
    {
     "name": "stderr",
     "output_type": "stream",
     "text": [
      "/home/jerichoo/unet/model.py:34: UserWarning: The `merge` function is deprecated and will be removed after 08/2017. Use instead layers from `keras.layers.merge`, e.g. `add`, `concatenate`, etc.\n",
      "  merge6 = merge([drop4,up6], mode = 'concat', concat_axis = 3)\n",
      "/home/jerichoo/tensorflow2/lib/python3.5/site-packages/keras/legacy/layers.py:465: UserWarning: The `Merge` layer is deprecated and will be removed after 08/2017. Use instead layers from `keras.layers.merge`, e.g. `add`, `concatenate`, etc.\n",
      "  name=name)\n",
      "/home/jerichoo/unet/model.py:39: UserWarning: The `merge` function is deprecated and will be removed after 08/2017. Use instead layers from `keras.layers.merge`, e.g. `add`, `concatenate`, etc.\n",
      "  merge7 = merge([conv3,up7], mode = 'concat', concat_axis = 3)\n",
      "/home/jerichoo/unet/model.py:44: UserWarning: The `merge` function is deprecated and will be removed after 08/2017. Use instead layers from `keras.layers.merge`, e.g. `add`, `concatenate`, etc.\n",
      "  merge8 = merge([conv2,up8], mode = 'concat', concat_axis = 3)\n",
      "/home/jerichoo/unet/model.py:49: UserWarning: The `merge` function is deprecated and will be removed after 08/2017. Use instead layers from `keras.layers.merge`, e.g. `add`, `concatenate`, etc.\n",
      "  merge9 = merge([conv1,up9], mode = 'concat', concat_axis = 3)\n",
      "/home/jerichoo/unet/model.py:55: UserWarning: Update your `Model` call to the Keras 2 API: `Model(inputs=Tensor(\"in..., outputs=Tensor(\"co...)`\n",
      "  model = Model(input = inputs, output = conv10)\n"
     ]
    },
    {
     "name": "stdout",
     "output_type": "stream",
     "text": [
      "Epoch 1/5\n",
      "Found 30 images belonging to 1 classes.\n",
      "Found 30 images belonging to 1 classes.\n",
      "2000/2000 [==============================] - 312s 156ms/step - loss: 0.0788 - acc: 0.9687\n",
      "\n",
      "Epoch 00001: loss improved from inf to 0.07876, saving model to unet_membrane.hdf5\n",
      "Epoch 2/5\n",
      "2000/2000 [==============================] - 293s 147ms/step - loss: 0.0211 - acc: 0.9919\n",
      "\n",
      "Epoch 00002: loss improved from 0.07876 to 0.02108, saving model to unet_membrane.hdf5\n",
      "Epoch 3/5\n",
      "2000/2000 [==============================] - 273s 136ms/step - loss: 0.0170 - acc: 0.9935\n",
      "\n",
      "Epoch 00003: loss improved from 0.02108 to 0.01700, saving model to unet_membrane.hdf5\n",
      "Epoch 4/5\n",
      "2000/2000 [==============================] - 306s 153ms/step - loss: 0.0121 - acc: 0.9952\n",
      "\n",
      "Epoch 00004: loss improved from 0.01700 to 0.01206, saving model to unet_membrane.hdf5\n",
      "Epoch 5/5\n",
      "2000/2000 [==============================] - 276s 138ms/step - loss: 0.0123 - acc: 0.9953\n",
      "\n",
      "Epoch 00005: loss did not improve from 0.01206\n"
     ]
    },
    {
     "data": {
      "text/plain": [
       "<keras.callbacks.History at 0x2aef7c67beb8>"
      ]
     },
     "execution_count": 3,
     "metadata": {},
     "output_type": "execute_result"
    }
   ],
   "source": [
    "data_gen_args = dict(rotation_range=0.2,\n",
    "                    width_shift_range=0.05,\n",
    "                    height_shift_range=0.05,\n",
    "                    shear_range=0.05,\n",
    "                    zoom_range=0.05,\n",
    "                    horizontal_flip=True,\n",
    "                    fill_mode='nearest')\n",
    "myGene = trainGenerator(2,'data/chicken/train','image','label',data_gen_args,save_to_dir = None)\n",
    "model = unet()\n",
    "model_checkpoint = ModelCheckpoint('unet_membrane2.hdf5', monitor='loss',verbose=1, save_best_only=True)\n",
    "model.fit_generator(myGene,steps_per_epoch=2000,epochs=5,callbacks=[model_checkpoint])"
   ]
  },
  {
   "cell_type": "markdown",
   "metadata": {},
   "source": [
    "### Train with npy file"
   ]
  },
  {
   "cell_type": "code",
   "execution_count": null,
   "metadata": {},
   "outputs": [],
   "source": [
    "#imgs_train,imgs_mask_train = geneTrainNpy(\"data/membrane/train/aug/\",\"data/membrane/train/aug/\")\n",
    "#model.fit(imgs_train, imgs_mask_train, batch_size=2, nb_epoch=10, verbose=1,validation_split=0.2, shuffle=True, callbacks=[model_checkpoint])"
   ]
  },
  {
   "cell_type": "markdown",
   "metadata": {},
   "source": [
    "### test your model and save predicted results"
   ]
  },
  {
   "cell_type": "code",
   "execution_count": 13,
   "metadata": {},
   "outputs": [
    {
     "name": "stderr",
     "output_type": "stream",
     "text": [
      "/home/jericho/unet/model.py:34: UserWarning: The `merge` function is deprecated and will be removed after 08/2017. Use instead layers from `keras.layers.merge`, e.g. `add`, `concatenate`, etc.\n",
      "  merge6 = merge([drop4,up6], mode = 'concat', concat_axis = 3)\n",
      "/home/jericho/anaconda3/lib/python3.6/site-packages/keras/legacy/layers.py:465: UserWarning: The `Merge` layer is deprecated and will be removed after 08/2017. Use instead layers from `keras.layers.merge`, e.g. `add`, `concatenate`, etc.\n",
      "  name=name)\n",
      "/home/jericho/unet/model.py:39: UserWarning: The `merge` function is deprecated and will be removed after 08/2017. Use instead layers from `keras.layers.merge`, e.g. `add`, `concatenate`, etc.\n",
      "  merge7 = merge([conv3,up7], mode = 'concat', concat_axis = 3)\n",
      "/home/jericho/unet/model.py:44: UserWarning: The `merge` function is deprecated and will be removed after 08/2017. Use instead layers from `keras.layers.merge`, e.g. `add`, `concatenate`, etc.\n",
      "  merge8 = merge([conv2,up8], mode = 'concat', concat_axis = 3)\n",
      "/home/jericho/unet/model.py:49: UserWarning: The `merge` function is deprecated and will be removed after 08/2017. Use instead layers from `keras.layers.merge`, e.g. `add`, `concatenate`, etc.\n",
      "  merge9 = merge([conv1,up9], mode = 'concat', concat_axis = 3)\n",
      "/home/jericho/unet/model.py:55: UserWarning: Update your `Model` call to the Keras 2 API: `Model(inputs=Tensor(\"in..., outputs=Tensor(\"co...)`\n",
      "  model = Model(input = inputs, output = conv10)\n"
     ]
    }
   ],
   "source": [
    "testGene = testGenerator(\"data/chicken/test\")\n",
    "model = unet()\n",
    "model.load_weights(\"unet_membrane.hdf5\")"
   ]
  },
  {
   "cell_type": "code",
   "execution_count": 14,
   "metadata": {},
   "outputs": [
    {
     "name": "stderr",
     "output_type": "stream",
     "text": [
      "/home/jericho/anaconda3/lib/python3.6/site-packages/skimage/transform/_warps.py:84: UserWarning: The default mode, 'constant', will be changed to 'reflect' in skimage 0.15.\n",
      "  warn(\"The default mode, 'constant', will be changed to 'reflect' in \"\n"
     ]
    },
    {
     "name": "stdout",
     "output_type": "stream",
     "text": [
      "30/30 [==============================] - 29s 972ms/step\n"
     ]
    },
    {
     "name": "stderr",
     "output_type": "stream",
     "text": [
      "/home/jericho/anaconda3/lib/python3.6/site-packages/skimage/util/dtype.py:122: UserWarning: Possible precision loss when converting from float32 to uint16\n",
      "  .format(dtypeobj_in, dtypeobj_out))\n"
     ]
    }
   ],
   "source": [
    "results = model.predict_generator(testGene,30,verbose=1)\n",
    "saveResult(\"data/chicken/test\",results)"
   ]
  },
  {
   "cell_type": "code",
   "execution_count": 11,
   "metadata": {},
   "outputs": [
    {
     "name": "stderr",
     "output_type": "stream",
     "text": [
      "/home/jericho/unet/model.py:34: UserWarning: The `merge` function is deprecated and will be removed after 08/2017. Use instead layers from `keras.layers.merge`, e.g. `add`, `concatenate`, etc.\n",
      "  merge6 = merge([drop4,up6], mode = 'concat', concat_axis = 3)\n",
      "/home/jericho/anaconda3/lib/python3.6/site-packages/keras/legacy/layers.py:465: UserWarning: The `Merge` layer is deprecated and will be removed after 08/2017. Use instead layers from `keras.layers.merge`, e.g. `add`, `concatenate`, etc.\n",
      "  name=name)\n",
      "/home/jericho/unet/model.py:39: UserWarning: The `merge` function is deprecated and will be removed after 08/2017. Use instead layers from `keras.layers.merge`, e.g. `add`, `concatenate`, etc.\n",
      "  merge7 = merge([conv3,up7], mode = 'concat', concat_axis = 3)\n",
      "/home/jericho/unet/model.py:44: UserWarning: The `merge` function is deprecated and will be removed after 08/2017. Use instead layers from `keras.layers.merge`, e.g. `add`, `concatenate`, etc.\n",
      "  merge8 = merge([conv2,up8], mode = 'concat', concat_axis = 3)\n",
      "/home/jericho/unet/model.py:49: UserWarning: The `merge` function is deprecated and will be removed after 08/2017. Use instead layers from `keras.layers.merge`, e.g. `add`, `concatenate`, etc.\n",
      "  merge9 = merge([conv1,up9], mode = 'concat', concat_axis = 3)\n",
      "/home/jericho/unet/model.py:55: UserWarning: Update your `Model` call to the Keras 2 API: `Model(inputs=Tensor(\"in..., outputs=Tensor(\"co...)`\n",
      "  model = Model(input = inputs, output = conv10)\n"
     ]
    },
    {
     "name": "stdout",
     "output_type": "stream",
     "text": [
      "Found 2 images belonging to 1 classes.\n",
      "Found 2 images belonging to 1 classes.\n",
      "1/1 [==============================] - 2s 2s/step\n",
      "Found 2 images belonging to 1 classes.\n",
      "Found 2 images belonging to 1 classes.\n",
      "1/1 [==============================] - 2s 2s/step\n",
      "Found 2 images belonging to 1 classes.\n",
      "Found 2 images belonging to 1 classes.\n",
      "1/1 [==============================] - 2s 2s/step\n",
      "Found 2 images belonging to 1 classes.\n",
      "Found 2 images belonging to 1 classes.\n",
      "1/1 [==============================] - 2s 2s/step\n",
      "Found 2 images belonging to 1 classes.\n",
      "Found 2 images belonging to 1 classes.\n",
      "1/1 [==============================] - 2s 2s/step\n",
      "Found 2 images belonging to 1 classes.\n",
      "Found 2 images belonging to 1 classes.\n",
      "1/1 [==============================] - 2s 2s/step\n",
      "Found 2 images belonging to 1 classes.\n",
      "Found 2 images belonging to 1 classes.\n",
      "1/1 [==============================] - 2s 2s/step\n",
      "Found 2 images belonging to 1 classes.\n",
      "Found 2 images belonging to 1 classes.\n",
      "1/1 [==============================] - 2s 2s/step\n",
      "Found 2 images belonging to 1 classes.\n",
      "Found 2 images belonging to 1 classes.\n",
      "1/1 [==============================] - 2s 2s/step\n",
      "Found 2 images belonging to 1 classes.\n",
      "Found 2 images belonging to 1 classes.\n",
      "1/1 [==============================] - 2s 2s/step\n",
      "Found 2 images belonging to 1 classes.\n",
      "Found 2 images belonging to 1 classes.\n",
      "1/1 [==============================] - 2s 2s/step\n",
      "Found 2 images belonging to 1 classes.\n",
      "Found 2 images belonging to 1 classes.\n",
      "1/1 [==============================] - 2s 2s/step\n",
      "Found 2 images belonging to 1 classes.\n",
      "Found 2 images belonging to 1 classes.\n",
      "1/1 [==============================] - 2s 2s/step\n",
      "Found 2 images belonging to 1 classes.\n",
      "Found 2 images belonging to 1 classes.\n",
      "1/1 [==============================] - 3s 3s/step\n",
      "Found 2 images belonging to 1 classes.\n",
      "Found 2 images belonging to 1 classes.\n",
      "1/1 [==============================] - 3s 3s/step\n",
      "Found 2 images belonging to 1 classes.\n",
      "Found 2 images belonging to 1 classes.\n",
      "1/1 [==============================] - 3s 3s/step\n",
      "Found 2 images belonging to 1 classes.\n",
      "Found 2 images belonging to 1 classes.\n",
      "1/1 [==============================] - 2s 2s/step\n",
      "Found 2 images belonging to 1 classes.\n",
      "Found 2 images belonging to 1 classes.\n",
      "1/1 [==============================] - 2s 2s/step\n",
      "Found 2 images belonging to 1 classes.\n",
      "Found 2 images belonging to 1 classes.\n",
      "1/1 [==============================] - 3s 3s/step\n",
      "Found 2 images belonging to 1 classes.\n",
      "Found 2 images belonging to 1 classes.\n",
      "1/1 [==============================] - 2s 2s/step\n",
      "Found 2 images belonging to 1 classes.\n",
      "Found 2 images belonging to 1 classes.\n",
      "1/1 [==============================] - 2s 2s/step\n",
      "Found 2 images belonging to 1 classes.\n",
      "Found 2 images belonging to 1 classes.\n",
      "1/1 [==============================] - 2s 2s/step\n",
      "Found 2 images belonging to 1 classes.\n",
      "Found 2 images belonging to 1 classes.\n",
      "1/1 [==============================] - 2s 2s/step\n",
      "Found 2 images belonging to 1 classes.\n",
      "Found 2 images belonging to 1 classes.\n",
      "1/1 [==============================] - 2s 2s/step\n"
     ]
    }
   ],
   "source": [
    "data_gen_args = dict(rotation_range=0.2,\n",
    "                    width_shift_range=0.05,\n",
    "                    height_shift_range=0.05,\n",
    "                    shear_range=0.05,\n",
    "                    zoom_range=0.05,\n",
    "                    horizontal_flip=True,\n",
    "                    fill_mode='nearest')\n",
    "\n",
    "thickness_mm = [39, 34, 29, 24, 19, 14, 9, 4]\n",
    "accuracies = np.zeros([3,8])\n",
    "losses = np.zeros([3,8])\n",
    "model = unet()\n",
    "model.load_weights(\"unet_membrane.hdf5\")\n",
    "        \n",
    "for ii, radius in enumerate([5, 10, 15]):\n",
    "    for jj, thickness in enumerate([39, 34, 29, 24, 19, 14, 9, 4]):\n",
    "\n",
    "        myGene = trainGenerator(\n",
    "            2,\n",
    "            'data/chicken/' + f'test_{radius}' + '/' + f'{thickness}',\n",
    "            'image',\n",
    "            'label',\n",
    "            data_gen_args,\n",
    "            save_to_dir=None)\n",
    "        results = model.evaluate_generator(myGene, 1, verbose=1, workers=3)\n",
    "        accuracies[ii,jj] = results[1]\n",
    "        losses[ii,jj] = results[0]"
   ]
  },
  {
   "cell_type": "code",
   "execution_count": 35,
   "metadata": {},
   "outputs": [
    {
     "data": {
      "text/plain": [
       "'data/chicken/test/5/39'"
      ]
     },
     "execution_count": 35,
     "metadata": {},
     "output_type": "execute_result"
    }
   ],
   "source": [
    "'data/chicken/test/' + f'{radius}' + '/' + f'{thickness}/'"
   ]
  },
  {
   "cell_type": "code",
   "execution_count": 7,
   "metadata": {},
   "outputs": [
    {
     "name": "stderr",
     "output_type": "stream",
     "text": [
      "/home/jericho/unet/model.py:34: UserWarning: The `merge` function is deprecated and will be removed after 08/2017. Use instead layers from `keras.layers.merge`, e.g. `add`, `concatenate`, etc.\n",
      "  merge6 = merge([drop4,up6], mode = 'concat', concat_axis = 3)\n",
      "/home/jericho/anaconda3/lib/python3.6/site-packages/keras/legacy/layers.py:465: UserWarning: The `Merge` layer is deprecated and will be removed after 08/2017. Use instead layers from `keras.layers.merge`, e.g. `add`, `concatenate`, etc.\n",
      "  name=name)\n",
      "/home/jericho/unet/model.py:39: UserWarning: The `merge` function is deprecated and will be removed after 08/2017. Use instead layers from `keras.layers.merge`, e.g. `add`, `concatenate`, etc.\n",
      "  merge7 = merge([conv3,up7], mode = 'concat', concat_axis = 3)\n",
      "/home/jericho/unet/model.py:44: UserWarning: The `merge` function is deprecated and will be removed after 08/2017. Use instead layers from `keras.layers.merge`, e.g. `add`, `concatenate`, etc.\n",
      "  merge8 = merge([conv2,up8], mode = 'concat', concat_axis = 3)\n",
      "/home/jericho/unet/model.py:49: UserWarning: The `merge` function is deprecated and will be removed after 08/2017. Use instead layers from `keras.layers.merge`, e.g. `add`, `concatenate`, etc.\n",
      "  merge9 = merge([conv1,up9], mode = 'concat', concat_axis = 3)\n",
      "/home/jericho/unet/model.py:55: UserWarning: Update your `Model` call to the Keras 2 API: `Model(inputs=Tensor(\"in..., outputs=Tensor(\"co...)`\n",
      "  model = Model(input = inputs, output = conv10)\n"
     ]
    },
    {
     "name": "stdout",
     "output_type": "stream",
     "text": [
      "Found 2 images belonging to 1 classes.\n",
      "Found 2 images belonging to 1 classes.\n",
      "1/1 [==============================] - 2s 2s/step\n",
      "Found 2 images belonging to 1 classes.\n",
      "Found 2 images belonging to 1 classes.\n"
     ]
    },
    {
     "name": "stderr",
     "output_type": "stream",
     "text": [
      "/home/jericho/anaconda3/lib/python3.6/site-packages/skimage/util/dtype.py:122: UserWarning: Possible precision loss when converting from float32 to uint16\n",
      "  .format(dtypeobj_in, dtypeobj_out))\n"
     ]
    },
    {
     "name": "stdout",
     "output_type": "stream",
     "text": [
      "1/1 [==============================] - 2s 2s/step\n",
      "Found 2 images belonging to 1 classes.\n",
      "Found 2 images belonging to 1 classes.\n",
      "1/1 [==============================] - 2s 2s/step\n",
      "Found 2 images belonging to 1 classes.\n",
      "Found 2 images belonging to 1 classes.\n",
      "1/1 [==============================] - 2s 2s/step\n",
      "Found 2 images belonging to 1 classes.\n",
      "Found 2 images belonging to 1 classes.\n",
      "1/1 [==============================] - 2s 2s/step\n",
      "Found 2 images belonging to 1 classes.\n",
      "Found 2 images belonging to 1 classes.\n",
      "1/1 [==============================] - 2s 2s/step\n",
      "Found 2 images belonging to 1 classes.\n",
      "Found 2 images belonging to 1 classes.\n",
      "1/1 [==============================] - 2s 2s/step\n",
      "Found 2 images belonging to 1 classes.\n",
      "Found 2 images belonging to 1 classes.\n",
      "1/1 [==============================] - 2s 2s/step\n",
      "Found 2 images belonging to 1 classes.\n",
      "Found 2 images belonging to 1 classes.\n",
      "1/1 [==============================] - 2s 2s/step\n",
      "Found 2 images belonging to 1 classes.\n",
      "Found 2 images belonging to 1 classes.\n",
      "1/1 [==============================] - 2s 2s/step\n",
      "Found 2 images belonging to 1 classes.\n",
      "Found 2 images belonging to 1 classes.\n",
      "1/1 [==============================] - 2s 2s/step\n",
      "Found 2 images belonging to 1 classes.\n",
      "Found 2 images belonging to 1 classes.\n",
      "1/1 [==============================] - 2s 2s/step\n",
      "Found 2 images belonging to 1 classes.\n",
      "Found 2 images belonging to 1 classes.\n",
      "1/1 [==============================] - 2s 2s/step\n",
      "Found 2 images belonging to 1 classes.\n",
      "Found 2 images belonging to 1 classes.\n",
      "1/1 [==============================] - 2s 2s/step\n",
      "Found 2 images belonging to 1 classes.\n",
      "Found 2 images belonging to 1 classes.\n",
      "1/1 [==============================] - 2s 2s/step\n",
      "Found 2 images belonging to 1 classes.\n",
      "Found 2 images belonging to 1 classes.\n",
      "1/1 [==============================] - 2s 2s/step\n",
      "Found 2 images belonging to 1 classes.\n",
      "Found 2 images belonging to 1 classes.\n",
      "1/1 [==============================] - 2s 2s/step\n",
      "Found 2 images belonging to 1 classes.\n",
      "Found 2 images belonging to 1 classes.\n",
      "1/1 [==============================] - 2s 2s/step\n",
      "Found 2 images belonging to 1 classes.\n",
      "Found 2 images belonging to 1 classes.\n",
      "1/1 [==============================] - 2s 2s/step\n",
      "Found 2 images belonging to 1 classes.\n",
      "Found 2 images belonging to 1 classes.\n",
      "1/1 [==============================] - 2s 2s/step\n",
      "Found 2 images belonging to 1 classes.\n",
      "Found 2 images belonging to 1 classes.\n",
      "1/1 [==============================] - 2s 2s/step\n",
      "Found 2 images belonging to 1 classes.\n",
      "Found 2 images belonging to 1 classes.\n",
      "1/1 [==============================] - 2s 2s/step\n",
      "Found 2 images belonging to 1 classes.\n",
      "Found 2 images belonging to 1 classes.\n",
      "1/1 [==============================] - 3s 3s/step\n",
      "Found 2 images belonging to 1 classes.\n",
      "Found 2 images belonging to 1 classes.\n",
      "1/1 [==============================] - 2s 2s/step\n"
     ]
    }
   ],
   "source": [
    "data_gen_args = dict(\n",
    "    rotation_range=0,\n",
    "    width_shift_range=0,\n",
    "    height_shift_range=0,\n",
    "    shear_range=0,\n",
    "    zoom_range=0,\n",
    "    horizontal_flip=False)\n",
    "\n",
    "thickness_mm = [39, 34, 29, 24, 19, 14, 9, 4]\n",
    "accuracies = np.zeros([3,8])\n",
    "losses = np.zeros([3,8])\n",
    "model = unet()\n",
    "model.load_weights(\"unet_membrane.hdf5\")\n",
    "\n",
    "# 'data/chicken/' + f'test_{radius}' + '/' + f'{thickness}',\n",
    "        \n",
    "for ii, radius in enumerate([5, 10, 15]):\n",
    "    for jj, thickness in enumerate([39, 34, 29, 24, 19, 14, 9, 4]):\n",
    "\n",
    "        myGene = trainGenerator(\n",
    "            2,\n",
    "            'data/chicken/' + f'test_{radius}' + '/' + f'{thickness}',\n",
    "            'image',\n",
    "            'label',\n",
    "            data_gen_args,\n",
    "            save_to_dir=None)\n",
    "        results = model.predict_generator(myGene, 1, verbose=1, workers=3)\n",
    "        saveResult('data/chicken/' + f'test_{radius}' + '/' + f'{thickness}',results)"
   ]
  },
  {
   "cell_type": "code",
   "execution_count": 32,
   "metadata": {},
   "outputs": [
    {
     "name": "stdout",
     "output_type": "stream",
     "text": [
      "import _frozen_importlib # frozen\r\n",
      "import _imp # builtin\r\n",
      "import sys # builtin\r\n",
      "import '_warnings' # <class '_frozen_importlib.BuiltinImporter'>\r\n",
      "import '_thread' # <class '_frozen_importlib.BuiltinImporter'>\r\n",
      "import '_weakref' # <class '_frozen_importlib.BuiltinImporter'>\r\n",
      "import '_frozen_importlib_external' # <class '_frozen_importlib.FrozenImporter'>\r\n",
      "import '_io' # <class '_frozen_importlib.BuiltinImporter'>\r\n",
      "import 'marshal' # <class '_frozen_importlib.BuiltinImporter'>\r\n",
      "import 'posix' # <class '_frozen_importlib.BuiltinImporter'>\r\n",
      "import _thread # previously loaded ('_thread')\r\n",
      "import '_thread' # <class '_frozen_importlib.BuiltinImporter'>\r\n",
      "import _weakref # previously loaded ('_weakref')\r\n",
      "import '_weakref' # <class '_frozen_importlib.BuiltinImporter'>\r\n",
      "# installing zipimport hook\r\n",
      "import 'zipimport' # <class '_frozen_importlib.BuiltinImporter'>\r\n",
      "# installed zipimport hook\r\n",
      "# /home/jericho/anaconda3/lib/python3.6/encodings/__pycache__/__init__.cpython-36.pyc matches /home/jericho/anaconda3/lib/python3.6/encodings/__init__.py\r\n",
      "# code object from '/home/jericho/anaconda3/lib/python3.6/encodings/__pycache__/__init__.cpython-36.pyc'\r\n",
      "# /home/jericho/anaconda3/lib/python3.6/__pycache__/codecs.cpython-36.pyc matches /home/jericho/anaconda3/lib/python3.6/codecs.py\r\n",
      "# code object from '/home/jericho/anaconda3/lib/python3.6/__pycache__/codecs.cpython-36.pyc'\r\n",
      "import '_codecs' # <class '_frozen_importlib.BuiltinImporter'>\r\n",
      "import 'codecs' # <_frozen_importlib_external.SourceFileLoader object at 0x7f0cd7f1e080>\r\n",
      "# /home/jericho/anaconda3/lib/python3.6/encodings/__pycache__/aliases.cpython-36.pyc matches /home/jericho/anaconda3/lib/python3.6/encodings/aliases.py\r\n",
      "# code object from '/home/jericho/anaconda3/lib/python3.6/encodings/__pycache__/aliases.cpython-36.pyc'\r\n",
      "import 'encodings.aliases' # <_frozen_importlib_external.SourceFileLoader object at 0x7f0cd7f2ca20>\r\n",
      "import 'encodings' # <_frozen_importlib_external.SourceFileLoader object at 0x7f0cd7f93ba8>\r\n",
      "# /home/jericho/anaconda3/lib/python3.6/encodings/__pycache__/utf_8.cpython-36.pyc matches /home/jericho/anaconda3/lib/python3.6/encodings/utf_8.py\r\n",
      "# code object from '/home/jericho/anaconda3/lib/python3.6/encodings/__pycache__/utf_8.cpython-36.pyc'\r\n",
      "import 'encodings.utf_8' # <_frozen_importlib_external.SourceFileLoader object at 0x7f0cd7f3a828>\r\n",
      "import '_signal' # <class '_frozen_importlib.BuiltinImporter'>\r\n",
      "# /home/jericho/anaconda3/lib/python3.6/encodings/__pycache__/latin_1.cpython-36.pyc matches /home/jericho/anaconda3/lib/python3.6/encodings/latin_1.py\r\n",
      "# code object from '/home/jericho/anaconda3/lib/python3.6/encodings/__pycache__/latin_1.cpython-36.pyc'\r\n",
      "import 'encodings.latin_1' # <_frozen_importlib_external.SourceFileLoader object at 0x7f0cd7f3f358>\r\n",
      "# /home/jericho/anaconda3/lib/python3.6/__pycache__/io.cpython-36.pyc matches /home/jericho/anaconda3/lib/python3.6/io.py\r\n",
      "# code object from '/home/jericho/anaconda3/lib/python3.6/__pycache__/io.cpython-36.pyc'\r\n",
      "# /home/jericho/anaconda3/lib/python3.6/__pycache__/abc.cpython-36.pyc matches /home/jericho/anaconda3/lib/python3.6/abc.py\r\n",
      "# code object from '/home/jericho/anaconda3/lib/python3.6/__pycache__/abc.cpython-36.pyc'\r\n",
      "# /home/jericho/anaconda3/lib/python3.6/__pycache__/_weakrefset.cpython-36.pyc matches /home/jericho/anaconda3/lib/python3.6/_weakrefset.py\r\n",
      "# code object from '/home/jericho/anaconda3/lib/python3.6/__pycache__/_weakrefset.cpython-36.pyc'\r\n",
      "import '_weakrefset' # <_frozen_importlib_external.SourceFileLoader object at 0x7f0cd7f442e8>\r\n",
      "import 'abc' # <_frozen_importlib_external.SourceFileLoader object at 0x7f0cd7f3f940>\r\n",
      "import 'io' # <_frozen_importlib_external.SourceFileLoader object at 0x7f0cd7f3f588>\r\n",
      "# /home/jericho/anaconda3/lib/python3.6/__pycache__/site.cpython-36.pyc matches /home/jericho/anaconda3/lib/python3.6/site.py\r\n",
      "# code object from '/home/jericho/anaconda3/lib/python3.6/__pycache__/site.cpython-36.pyc'\r\n",
      "# /home/jericho/anaconda3/lib/python3.6/__pycache__/os.cpython-36.pyc matches /home/jericho/anaconda3/lib/python3.6/os.py\r\n",
      "# code object from '/home/jericho/anaconda3/lib/python3.6/__pycache__/os.cpython-36.pyc'\r\n",
      "import 'errno' # <class '_frozen_importlib.BuiltinImporter'>\r\n",
      "# /home/jericho/anaconda3/lib/python3.6/__pycache__/stat.cpython-36.pyc matches /home/jericho/anaconda3/lib/python3.6/stat.py\r\n",
      "# code object from '/home/jericho/anaconda3/lib/python3.6/__pycache__/stat.cpython-36.pyc'\r\n",
      "import '_stat' # <class '_frozen_importlib.BuiltinImporter'>\r\n",
      "import 'stat' # <_frozen_importlib_external.SourceFileLoader object at 0x7f0cd7ee85c0>\r\n",
      "# /home/jericho/anaconda3/lib/python3.6/__pycache__/posixpath.cpython-36.pyc matches /home/jericho/anaconda3/lib/python3.6/posixpath.py\r\n",
      "# code object from '/home/jericho/anaconda3/lib/python3.6/__pycache__/posixpath.cpython-36.pyc'\r\n",
      "# /home/jericho/anaconda3/lib/python3.6/__pycache__/genericpath.cpython-36.pyc matches /home/jericho/anaconda3/lib/python3.6/genericpath.py\r\n",
      "# code object from '/home/jericho/anaconda3/lib/python3.6/__pycache__/genericpath.cpython-36.pyc'\r\n",
      "import 'genericpath' # <_frozen_importlib_external.SourceFileLoader object at 0x7f0cd7eecf98>\r\n",
      "import 'posixpath' # <_frozen_importlib_external.SourceFileLoader object at 0x7f0cd7ee8c88>\r\n",
      "# /home/jericho/anaconda3/lib/python3.6/__pycache__/_collections_abc.cpython-36.pyc matches /home/jericho/anaconda3/lib/python3.6/_collections_abc.py\r\n",
      "# code object from '/home/jericho/anaconda3/lib/python3.6/__pycache__/_collections_abc.cpython-36.pyc'\r\n",
      "import '_collections_abc' # <_frozen_importlib_external.SourceFileLoader object at 0x7f0cd7ef35f8>\r\n",
      "import 'os' # <_frozen_importlib_external.SourceFileLoader object at 0x7f0cd7f57ef0>\r\n",
      "# /home/jericho/anaconda3/lib/python3.6/__pycache__/_sitebuiltins.cpython-36.pyc matches /home/jericho/anaconda3/lib/python3.6/_sitebuiltins.py\r\n",
      "# code object from '/home/jericho/anaconda3/lib/python3.6/__pycache__/_sitebuiltins.cpython-36.pyc'\r\n",
      "import '_sitebuiltins' # <_frozen_importlib_external.SourceFileLoader object at 0x7f0cd7eda320>\r\n",
      "# /home/jericho/anaconda3/lib/python3.6/__pycache__/sysconfig.cpython-36.pyc matches /home/jericho/anaconda3/lib/python3.6/sysconfig.py\r\n",
      "# code object from '/home/jericho/anaconda3/lib/python3.6/__pycache__/sysconfig.cpython-36.pyc'\r\n",
      "import 'sysconfig' # <_frozen_importlib_external.SourceFileLoader object at 0x7f0cd7ea9a58>\r\n",
      "# /home/jericho/anaconda3/lib/python3.6/__pycache__/_sysconfigdata_m_linux_x86_64-linux-gnu.cpython-36.pyc matches /home/jericho/anaconda3/lib/python3.6/_sysconfigdata_m_linux_x86_64-linux-gnu.py\r\n",
      "# code object from '/home/jericho/anaconda3/lib/python3.6/__pycache__/_sysconfigdata_m_linux_x86_64-linux-gnu.cpython-36.pyc'\r\n",
      "import '_sysconfigdata_m_linux_x86_64-linux-gnu' # <_frozen_importlib_external.SourceFileLoader object at 0x7f0cd7ebd320>\r\n",
      "# /home/jericho/anaconda3/lib/python3.6/__pycache__/_bootlocale.cpython-36.pyc matches /home/jericho/anaconda3/lib/python3.6/_bootlocale.py\r\n",
      "# code object from '/home/jericho/anaconda3/lib/python3.6/__pycache__/_bootlocale.cpython-36.pyc'\r\n",
      "import '_locale' # <class '_frozen_importlib.BuiltinImporter'>\r\n",
      "import '_bootlocale' # <_frozen_importlib_external.SourceFileLoader object at 0x7f0cd7ecb2e8>\r\n",
      "# /home/jericho/anaconda3/lib/python3.6/__pycache__/types.cpython-36.pyc matches /home/jericho/anaconda3/lib/python3.6/types.py\r\n",
      "# code object from '/home/jericho/anaconda3/lib/python3.6/__pycache__/types.cpython-36.pyc'\r\n",
      "# /home/jericho/anaconda3/lib/python3.6/__pycache__/functools.cpython-36.pyc matches /home/jericho/anaconda3/lib/python3.6/functools.py\r\n",
      "# code object from '/home/jericho/anaconda3/lib/python3.6/__pycache__/functools.cpython-36.pyc'\r\n",
      "import '_functools' # <class '_frozen_importlib.BuiltinImporter'>\r\n",
      "# /home/jericho/anaconda3/lib/python3.6/collections/__pycache__/__init__.cpython-36.pyc matches /home/jericho/anaconda3/lib/python3.6/collections/__init__.py\r\n",
      "# code object from '/home/jericho/anaconda3/lib/python3.6/collections/__pycache__/__init__.cpython-36.pyc'\r\n",
      "# /home/jericho/anaconda3/lib/python3.6/__pycache__/operator.cpython-36.pyc matches /home/jericho/anaconda3/lib/python3.6/operator.py\r\n",
      "# code object from '/home/jericho/anaconda3/lib/python3.6/__pycache__/operator.cpython-36.pyc'\r\n",
      "import '_operator' # <class '_frozen_importlib.BuiltinImporter'>\r\n",
      "import 'operator' # <_frozen_importlib_external.SourceFileLoader object at 0x7f0cd64750f0>\r\n",
      "# /home/jericho/anaconda3/lib/python3.6/__pycache__/keyword.cpython-36.pyc matches /home/jericho/anaconda3/lib/python3.6/keyword.py\r\n",
      "# code object from '/home/jericho/anaconda3/lib/python3.6/__pycache__/keyword.cpython-36.pyc'\r\n",
      "import 'keyword' # <_frozen_importlib_external.SourceFileLoader object at 0x7f0cd647d358>\r\n",
      "# /home/jericho/anaconda3/lib/python3.6/__pycache__/heapq.cpython-36.pyc matches /home/jericho/anaconda3/lib/python3.6/heapq.py\r\n",
      "# code object from '/home/jericho/anaconda3/lib/python3.6/__pycache__/heapq.cpython-36.pyc'\r\n",
      "# extension module '_heapq' loaded from '/home/jericho/anaconda3/lib/python3.6/lib-dynload/_heapq.cpython-36m-x86_64-linux-gnu.so'\r\n",
      "# extension module '_heapq' executed from '/home/jericho/anaconda3/lib/python3.6/lib-dynload/_heapq.cpython-36m-x86_64-linux-gnu.so'\r\n",
      "import '_heapq' # <_frozen_importlib_external.ExtensionFileLoader object at 0x7f0cd64820b8>\r\n",
      "import 'heapq' # <_frozen_importlib_external.SourceFileLoader object at 0x7f0cd647db70>\r\n",
      "import 'itertools' # <class '_frozen_importlib.BuiltinImporter'>\r\n",
      "# /home/jericho/anaconda3/lib/python3.6/__pycache__/reprlib.cpython-36.pyc matches /home/jericho/anaconda3/lib/python3.6/reprlib.py\r\n",
      "# code object from '/home/jericho/anaconda3/lib/python3.6/__pycache__/reprlib.cpython-36.pyc'\r\n",
      "import 'reprlib' # <_frozen_importlib_external.SourceFileLoader object at 0x7f0cd6477828>\r\n",
      "import '_collections' # <class '_frozen_importlib.BuiltinImporter'>\r\n",
      "import 'collections' # <_frozen_importlib_external.SourceFileLoader object at 0x7f0cd64507b8>\r\n",
      "# /home/jericho/anaconda3/lib/python3.6/__pycache__/weakref.cpython-36.pyc matches /home/jericho/anaconda3/lib/python3.6/weakref.py\r\n",
      "# code object from '/home/jericho/anaconda3/lib/python3.6/__pycache__/weakref.cpython-36.pyc'\r\n",
      "import 'weakref' # <_frozen_importlib_external.SourceFileLoader object at 0x7f0cd6450ba8>\r\n",
      "import 'functools' # <_frozen_importlib_external.SourceFileLoader object at 0x7f0cd7ecef60>\r\n",
      "# /home/jericho/anaconda3/lib/python3.6/collections/__pycache__/abc.cpython-36.pyc matches /home/jericho/anaconda3/lib/python3.6/collections/abc.py\r\n",
      "# code object from '/home/jericho/anaconda3/lib/python3.6/collections/__pycache__/abc.cpython-36.pyc'\r\n",
      "import 'collections.abc' # <_frozen_importlib_external.SourceFileLoader object at 0x7f0cd7ed7cf8>\r\n",
      "import 'types' # <_frozen_importlib_external.SourceFileLoader object at 0x7f0cd7ece2e8>\r\n",
      "# /home/jericho/anaconda3/lib/python3.6/importlib/__pycache__/__init__.cpython-36.pyc matches /home/jericho/anaconda3/lib/python3.6/importlib/__init__.py\r\n",
      "# code object from '/home/jericho/anaconda3/lib/python3.6/importlib/__pycache__/__init__.cpython-36.pyc'\r\n",
      "# /home/jericho/anaconda3/lib/python3.6/__pycache__/warnings.cpython-36.pyc matches /home/jericho/anaconda3/lib/python3.6/warnings.py\r\n",
      "# code object from '/home/jericho/anaconda3/lib/python3.6/__pycache__/warnings.cpython-36.pyc'\r\n",
      "import 'warnings' # <_frozen_importlib_external.SourceFileLoader object at 0x7f0cd6449ac8>\r\n",
      "import 'importlib' # <_frozen_importlib_external.SourceFileLoader object at 0x7f0cd7ece400>\r\n",
      "# /home/jericho/anaconda3/lib/python3.6/importlib/__pycache__/util.cpython-36.pyc matches /home/jericho/anaconda3/lib/python3.6/importlib/util.py\r\n",
      "# code object from '/home/jericho/anaconda3/lib/python3.6/importlib/__pycache__/util.cpython-36.pyc'\r\n",
      "# /home/jericho/anaconda3/lib/python3.6/importlib/__pycache__/abc.cpython-36.pyc matches /home/jericho/anaconda3/lib/python3.6/importlib/abc.py\r\n",
      "# code object from '/home/jericho/anaconda3/lib/python3.6/importlib/__pycache__/abc.cpython-36.pyc'\r\n",
      "# /home/jericho/anaconda3/lib/python3.6/importlib/__pycache__/machinery.cpython-36.pyc matches /home/jericho/anaconda3/lib/python3.6/importlib/machinery.py\r\n",
      "# code object from '/home/jericho/anaconda3/lib/python3.6/importlib/__pycache__/machinery.cpython-36.pyc'\r\n",
      "import 'importlib.machinery' # <_frozen_importlib_external.SourceFileLoader object at 0x7f0cd64324e0>\r\n",
      "import 'importlib.abc' # <_frozen_importlib_external.SourceFileLoader object at 0x7f0cd643eeb8>\r\n",
      "# /home/jericho/anaconda3/lib/python3.6/__pycache__/contextlib.cpython-36.pyc matches /home/jericho/anaconda3/lib/python3.6/contextlib.py\r\n",
      "# code object from '/home/jericho/anaconda3/lib/python3.6/__pycache__/contextlib.cpython-36.pyc'\r\n",
      "import 'contextlib' # <_frozen_importlib_external.SourceFileLoader object at 0x7f0cd6432fd0>\r\n",
      "import 'importlib.util' # <_frozen_importlib_external.SourceFileLoader object at 0x7f0cd643e860>\r\n",
      "# possible namespace for /home/jericho/anaconda3/lib/python3.6/site-packages/mpl_toolkits\r\n",
      "# possible namespace for /home/jericho/anaconda3/lib/python3.6/site-packages/google\r\n",
      "# possible namespace for /home/jericho/anaconda3/lib/python3.6/site-packages/google\r\n",
      "# destroy google\r\n",
      "import 'site' # <_frozen_importlib_external.SourceFileLoader object at 0x7f0cd7f4ac18>\r\n",
      "Python 3.6.5 |Anaconda, Inc.| (default, Apr 29 2018, 16:14:56) \r\n",
      "[GCC 7.2.0] on linux\r\n",
      "Type \"help\", \"copyright\", \"credits\" or \"license\" for more information.\r\n"
     ]
    },
    {
     "name": "stdout",
     "output_type": "stream",
     "text": [
      "# extension module 'readline' loaded from '/home/jericho/anaconda3/lib/python3.6/lib-dynload/readline.cpython-36m-x86_64-linux-gnu.so'\n",
      "# extension module 'readline' executed from '/home/jericho/anaconda3/lib/python3.6/lib-dynload/readline.cpython-36m-x86_64-linux-gnu.so'\n",
      "import 'readline' # <_frozen_importlib_external.ExtensionFileLoader object at 0x7f0cd61d4c50>\n",
      "import 'atexit' # <class '_frozen_importlib.BuiltinImporter'>\n",
      "# /home/jericho/anaconda3/lib/python3.6/__pycache__/rlcompleter.cpython-36.pyc matches /home/jericho/anaconda3/lib/python3.6/rlcompleter.py\n",
      "# code object from '/home/jericho/anaconda3/lib/python3.6/__pycache__/rlcompleter.cpython-36.pyc'\n",
      "import 'rlcompleter' # <_frozen_importlib_external.SourceFileLoader object at 0x7f0cd61d4d68>\n",
      ">>> \n",
      "Traceback (most recent call last):\n",
      "  File \"<stdin>\", line 1, in <module>\n",
      "KeyboardInterrupt\n",
      ">>> "
     ]
    }
   ],
   "source": []
  },
  {
   "cell_type": "code",
   "execution_count": 12,
   "metadata": {},
   "outputs": [
    {
     "name": "stdout",
     "output_type": "stream",
     "text": [
      "Using matplotlib backend: Qt5Agg\n",
      "Populating the interactive namespace from numpy and matplotlib\n"
     ]
    }
   ],
   "source": [
    "%pylab"
   ]
  },
  {
   "cell_type": "code",
   "execution_count": 6,
   "metadata": {},
   "outputs": [
    {
     "data": {
      "text/plain": [
       "<matplotlib.image.AxesImage at 0x7f3c442ee080>"
      ]
     },
     "execution_count": 6,
     "metadata": {},
     "output_type": "execute_result"
    }
   ],
   "source": [
    "\n",
    "plt.figure()\n",
    "plt.imshow(losses)"
   ]
  },
  {
   "cell_type": "code",
   "execution_count": 13,
   "metadata": {},
   "outputs": [
    {
     "data": {
      "text/plain": [
       "<matplotlib.image.AxesImage at 0x7f3b7ef05470>"
      ]
     },
     "execution_count": 13,
     "metadata": {},
     "output_type": "execute_result"
    }
   ],
   "source": [
    "plt.figure()\n",
    "plt.imshow(accuracies)"
   ]
  },
  {
   "cell_type": "code",
   "execution_count": 17,
   "metadata": {},
   "outputs": [],
   "source": [
    "xvec = np.linspace(03.9,.4,8)\n",
    "\n",
    "plt.rc('font', family='serif')\n",
    "plt.rc('xtick', labelsize='x-small')\n",
    "plt.rc('ytick', labelsize='x-small')\n",
    "fig = figure(figsize=(4, 3))\n",
    "ax = fig.add_subplot(1, 1, 1)\n",
    "\n",
    "ax.plot(xvec,accuracies[0,:].T,'*')\n",
    "ax.plot(xvec,accuracies[1,:].T,'*')\n",
    "ax.plot(xvec,accuracies[2,:].T,'*')\n",
    "ax.plot([0,4],[0.9953,0.9953],'g--')\n",
    "#plt.ylim([0, 1])\n",
    "ax.set_xlim([0, 4])\n",
    "ax.set_ylabel('Catagorical accuracy')\n",
    "ax.set_xlabel('Cartilage depth [cm]')\n",
    "#ax.title('UNet accuracy')\n",
    "ax.legend(['10.0 mm','6.6 mm','3.4 mm'],title='Diameter of circles')\n",
    "\n",
    "plt.gcf().subplots_adjust(bottom=0.15,left=0.15)"
   ]
  },
  {
   "cell_type": "code",
   "execution_count": null,
   "metadata": {},
   "outputs": [],
   "source": []
  }
 ],
 "metadata": {
  "kernelspec": {
   "display_name": "Python 3",
   "language": "python",
   "name": "python3"
  },
  "language_info": {
   "codemirror_mode": {
    "name": "ipython",
    "version": 3
   },
   "file_extension": ".py",
   "mimetype": "text/x-python",
   "name": "python",
   "nbconvert_exporter": "python",
   "pygments_lexer": "ipython3",
   "version": "3.6.5"
  },
  "varInspector": {
   "cols": {
    "lenName": 16,
    "lenType": 16,
    "lenVar": 40
   },
   "kernels_config": {
    "python": {
     "delete_cmd_postfix": "",
     "delete_cmd_prefix": "del ",
     "library": "var_list.py",
     "varRefreshCmd": "print(var_dic_list())"
    },
    "r": {
     "delete_cmd_postfix": ") ",
     "delete_cmd_prefix": "rm(",
     "library": "var_list.r",
     "varRefreshCmd": "cat(var_dic_list()) "
    }
   },
   "types_to_exclude": [
    "module",
    "function",
    "builtin_function_or_method",
    "instance",
    "_Feature"
   ],
   "window_display": false
  }
 },
 "nbformat": 4,
 "nbformat_minor": 2
}
